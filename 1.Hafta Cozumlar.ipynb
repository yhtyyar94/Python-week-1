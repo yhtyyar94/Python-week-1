{
 "cells": [
  {
   "cell_type": "markdown",
   "metadata": {},
   "source": [
    "\n",
    "Python'a Genel Bakış\n",
    "\n",
    "Python Nedir?\n",
    "Yüksek seviyeli, yorumlanan ve genel amaçlı bir programlama dili.\n",
    "Basit sözdizimi sayesinde öğrenmesi kolaydır.\n",
    "Geniş bir standart kütüphaneye sahiptir.\n",
    "\n",
    "Neden Python?\n",
    "Veri analizi ve görselleştirme için idealdir.\n",
    "Makine öğrenmesi ve derin öğrenme uygulamaları için popüler bir seçimdir.\n",
    "Web geliştirmede de sıkça kullanılır.\n",
    "\n",
    "Python'u Kurma ve Çalıştırma\n",
    "Anaconda dağıtımı: Veri bilimi ve makine öğrenmesi için popüler bir seçenektir.\n",
    "Jupyter Notebook: İnteraktif kod yazma ve görselleştirme için mükemmel bir araçtır.\n",
    "VS Code: Özellikle büyük projeler için kullanışlı bir kod editörüdür.\n",
    "Colab: Google tarafından sunulan, tarayıcınızda direkt olarak Python kodları yazıp \n",
    "çalıştırabileceğiniz ücretsiz ve açık kaynaklı bir platformdur. "
   ]
  },
  {
   "cell_type": "markdown",
   "metadata": {},
   "source": [
    "Python'da Yorum Ekleme Yolları\n",
    "\n",
    "Tek Satırlı Yorumlar (#)"
   ]
  },
  {
   "cell_type": "code",
   "execution_count": 5,
   "metadata": {},
   "outputs": [
    {
     "name": "stdout",
     "output_type": "stream",
     "text": [
      "Merhaba, Dünya!\n"
     ]
    }
   ],
   "source": [
    "# Bu bir yorum satırıdır.\n",
    "\n",
    "print(\"Merhaba, Dünya!\")   # print() fonksiyonu ekrana bir metin yazdırır."
   ]
  },
  {
   "cell_type": "markdown",
   "metadata": {},
   "source": [
    "Çok Satırlı Yorumlar  (''') yada (\"\"\")"
   ]
  },
  {
   "cell_type": "code",
   "execution_count": 6,
   "metadata": {},
   "outputs": [
    {
     "name": "stdout",
     "output_type": "stream",
     "text": [
      "Python eğlenceli!\n"
     ]
    }
   ],
   "source": [
    "\"\"\"\n",
    "Bu birden fazla satırdan oluşan bir yorumdur.\n",
    "Yorumlar kodun daha anlaşılır olmasını sağlar.\n",
    "\"\"\"\n",
    "\n",
    "print(\"Python eğlenceli!\")\n",
    "\n",
    "print()"
   ]
  },
  {
   "cell_type": "markdown",
   "metadata": {},
   "source": [
    "Visual Studio Code (VS Code)\n",
    "Tüm seçili satırları yorum yap: Ctrl+K Ctrl+C\n",
    "Tüm seçili satırlardaki yorumları kaldır: Ctrl+K Ctrl+U"
   ]
  },
  {
   "cell_type": "code",
   "execution_count": 7,
   "metadata": {},
   "outputs": [
    {
     "ename": "SyntaxError",
     "evalue": "invalid syntax (1829384415.py, line 1)",
     "output_type": "error",
     "traceback": [
      "\u001b[1;36m  Cell \u001b[1;32mIn[7], line 1\u001b[1;36m\u001b[0m\n\u001b[1;33m    Birden fazla satırı yorum yapma veya yorumdan çıkma kısayolu.\u001b[0m\n\u001b[1;37m           ^\u001b[0m\n\u001b[1;31mSyntaxError\u001b[0m\u001b[1;31m:\u001b[0m invalid syntax\n"
     ]
    }
   ],
   "source": [
    "Birden fazla satırı yorum yapma veya yorumdan çıkma kısayolu.\n",
    "\n",
    "(Ctrl + /)"
   ]
  },
  {
   "cell_type": "code",
   "execution_count": null,
   "metadata": {},
   "outputs": [],
   "source": [
    "Birden fazla satırı iceri alma yada dışarı alma kısayolu.\n",
    "\n",
    "satırları seç ve (Tab)\n",
    "satırları seç ve  (Shift + Tab)  "
   ]
  },
  {
   "cell_type": "markdown",
   "metadata": {},
   "source": [
    "Diğer kullanışlı kısa yollar.\n",
    "\n",
    "Satır Sonuna Git: Satırın sonuna gitmek için End tuşuna basabilirsiniz.\n",
    "Satır Başına Git: Satırın başına gitmek için Home tuşuna basabilirsiniz.\n",
    "Bir Sonraki Kelimeye Git: Ctrl+Right (veya Cmd+Right macOS'ta)\n",
    "Bir Önceki Kelimeye Git: Ctrl+Left (veya Cmd+Left macOS'ta)\n",
    "Satırı yukarı/aşağı taşı: Alt+Up/Down"
   ]
  },
  {
   "cell_type": "markdown",
   "metadata": {},
   "source": [
    "Temel Kavramlar ve Uygulamalar\n",
    "Veri Tipleri\n",
    "Tam sayılar (integer), ondalıklı sayılar (float), metinler (string), boolean değerler\n",
    "Değişkenler\n",
    "Verileri saklamak için kullanılan isimler\n",
    "Operatörler\n",
    "Aritmetik, karşılaştırma, mantıksal operatörler\n",
    "Matematiksel İşlemler\n",
    "Toplama, çıkarma, çarpma, bölme, üs alma gibi işlemler\n",
    "Döngüler\n",
    "Bir kod bloğunu belirli bir koşul sağlandığı veya belirli bir sayıda tekrarlamak için kullanılır.\n",
    "for döngüsü, while döngüsü\n",
    "Koşullu İfadeler\n",
    "Karar verme mekanizması\n",
    "if, else, elif anahtar kelimeleri"
   ]
  },
  {
   "cell_type": "markdown",
   "metadata": {},
   "source": [
    "Python Stringleri ve Metotları\n",
    "Python'da stringler, metinsel verileri saklamak için kullanılan veri tipleridir. Tek tırnak (') veya çift tırnak (\") içine alınarak tanımlanırlar. Örneğin:"
   ]
  },
  {
   "cell_type": "code",
   "execution_count": null,
   "metadata": {},
   "outputs": [],
   "source": [
    "metin1 = 'Merhaba, Dünya!'\n",
    "metin2 = \"Python programlama dili\""
   ]
  },
  {
   "cell_type": "markdown",
   "metadata": {},
   "source": [
    "String Metotları\n",
    "Stringler üzerinde çeşitli işlemler yapmak için birçok metod (fonksiyon) bulunur. İşte bazı yaygın kullanılan string metotları ve örnekleri:"
   ]
  },
  {
   "cell_type": "code",
   "execution_count": null,
   "metadata": {},
   "outputs": [],
   "source": [
    "# upper(): Tüm harfleri büyük harfe çevirir.\n",
    "\n",
    "metin = \"python programlama\"\n",
    "print(metin.upper())  # PYTHON PROGRAMLAMA"
   ]
  },
  {
   "cell_type": "code",
   "execution_count": null,
   "metadata": {},
   "outputs": [],
   "source": [
    "# lower(): Tüm harfleri küçük harfe çevirir.\n",
    "\n",
    "metin = \"PYTHON PROGRAMLAMA\"\n",
    "print(metin.lower())  # python programlama"
   ]
  },
  {
   "cell_type": "code",
   "execution_count": null,
   "metadata": {},
   "outputs": [],
   "source": [
    "# title(): Her kelimenin ilk harfini büyük harfe çevirir.\n",
    "\n",
    "metin = \"merhaba, dünya!\"\n",
    "print(metin.title())  # Merhaba, Dünya!"
   ]
  },
  {
   "cell_type": "code",
   "execution_count": null,
   "metadata": {},
   "outputs": [],
   "source": [
    "#capitalize(): İlk harfi büyük harfe çevirir.\n",
    "\n",
    "metin = \"python\"\n",
    "print(metin.capitalize())  # Python"
   ]
  },
  {
   "cell_type": "code",
   "execution_count": null,
   "metadata": {},
   "outputs": [],
   "source": [
    "# count(substring): Belirtilen alt dizinin kaç kez geçtiğini sayar.\n",
    "\n",
    "metin = \"Merhaba, merhaba!\"\n",
    "print(metin.count(\"merhaba\"))  # 2"
   ]
  },
  {
   "cell_type": "code",
   "execution_count": null,
   "metadata": {},
   "outputs": [],
   "source": [
    "# find(substring): Belirtilen alt dizinin ilk bulunduğu indeksi verir. Bulunamadığında -1 döner.\n",
    "\n",
    "metin = \"Merhaba, dünya!\"\n",
    "print(metin.find(\"dünya\"))  # 9"
   ]
  },
  {
   "cell_type": "code",
   "execution_count": null,
   "metadata": {},
   "outputs": [],
   "source": [
    "# replace(old, new): Belirtilen alt diziyi yeni bir alt dizi ile değiştirir.\n",
    "\n",
    "metin = \"Merhaba, Dünya!\"\n",
    "print(metin.replace(\"Dünya\", \"Python\"))  # Merhaba, Python!"
   ]
  },
  {
   "cell_type": "code",
   "execution_count": null,
   "metadata": {},
   "outputs": [],
   "source": [
    "# split(separator): Belirtilen ayırıcıya göre stringi parçalara ayırır ve bir liste döndürür. Ayırıcı belirtilmezse boşluk karakterine göre ayırır.\n",
    "\n",
    "metin = \"elma,armut,çilek\"\n",
    "liste = metin.split(\",\")\n",
    "print(liste)  # ['elma', 'armut', 'çilek']"
   ]
  },
  {
   "cell_type": "code",
   "execution_count": null,
   "metadata": {},
   "outputs": [],
   "source": [
    "# join(iterable): Bir liste veya tüplü verinin elemanlarını belirtilen bir ayırıcı ile birleştirir.\n",
    "\n",
    "liste = [\"elma\", \"armut\", \"çilek\"]\n",
    "metin = \"-\".join(liste)\n",
    "print(metin)  # elma-armut-çilek"
   ]
  },
  {
   "cell_type": "code",
   "execution_count": null,
   "metadata": {},
   "outputs": [],
   "source": [
    "# strip(): Stringin başındaki ve sonundaki boşluk karakterlerini siler.\n",
    "\n",
    "metin = \"   Merhaba, Dünya!   \"\n",
    "print(metin.strip())  # Merhaba, Dünya!"
   ]
  },
  {
   "cell_type": "markdown",
   "metadata": {},
   "source": [
    "startswith(substring): Stringin belirtilen alt dizi ile başlayıp başlamadığını kontrol eder.\n",
    "endswith(substring): Stringin belirtilen alt dizi ile bitip bitmediğini kontrol eder.\n",
    "isupper(): Tüm harflerin büyük harf olup olmadığını kontrol eder.\n",
    "islower(): Tüm harflerin küçük harf olup olmadığını kontrol eder.\n",
    "isalpha(): Stringin sadece harflerden oluşup oluşmadığını kontrol eder.\n",
    "**isdigit()**: Stringin sadece sayılardan oluşup oluşmadığını kontrol eder."
   ]
  },
  {
   "cell_type": "markdown",
   "metadata": {},
   "source": [
    "Matematiksel Islemler"
   ]
  },
  {
   "cell_type": "code",
   "execution_count": null,
   "metadata": {},
   "outputs": [],
   "source": [
    "# Toplama (+)\n",
    "sayi1 = 10\n",
    "sayi2 = 5\n",
    "toplam = sayi1 + sayi2\n",
    "print(\"Toplam:\", toplam)  # Çıktı: Toplam: 15"
   ]
  },
  {
   "cell_type": "code",
   "execution_count": null,
   "metadata": {},
   "outputs": [],
   "source": [
    "a = 5\n",
    "b = 4\n",
    "sonuc = a + b\n",
    "print(sonuc)"
   ]
  },
  {
   "cell_type": "code",
   "execution_count": null,
   "metadata": {},
   "outputs": [],
   "source": [
    "a = 5\n",
    "a += 2\n",
    "a"
   ]
  },
  {
   "cell_type": "code",
   "execution_count": null,
   "metadata": {},
   "outputs": [],
   "source": [
    "# Çıkarma (-)\n",
    "sayi1 = 20\n",
    "sayi2 = 7\n",
    "fark = sayi1 - sayi2\n",
    "print(\"Fark:\", fark)  # Çıktı: Fark: 13"
   ]
  },
  {
   "cell_type": "code",
   "execution_count": null,
   "metadata": {},
   "outputs": [],
   "source": [
    "a = 8\n",
    "b = 3\n",
    "sonuc = a - b\n",
    "print(sonuc)"
   ]
  },
  {
   "cell_type": "code",
   "execution_count": null,
   "metadata": {},
   "outputs": [],
   "source": [
    "a = 5\n",
    "a -= 2\n",
    "a"
   ]
  },
  {
   "cell_type": "code",
   "execution_count": null,
   "metadata": {},
   "outputs": [],
   "source": [
    "# Çarpma (*)\n",
    "sayi1 = 3\n",
    "sayi2 = 4\n",
    "carpim = sayi1 * sayi2\n",
    "print(\"Çarpım:\", carpim)  # Çıktı: Çarpım: 12"
   ]
  },
  {
   "cell_type": "code",
   "execution_count": null,
   "metadata": {},
   "outputs": [],
   "source": [
    "a = 8\n",
    "b = 2\n",
    "sonuc = a * b\n",
    "print(sonuc)"
   ]
  },
  {
   "cell_type": "code",
   "execution_count": null,
   "metadata": {},
   "outputs": [],
   "source": [
    "a = 5\n",
    "a *= 2\n",
    "a"
   ]
  },
  {
   "cell_type": "code",
   "execution_count": null,
   "metadata": {},
   "outputs": [],
   "source": [
    "# Bölme (/)\n",
    "sayi1 = 15\n",
    "sayi2 = 3\n",
    "bolum = sayi1 / sayi2\n",
    "print(\"Bölüm:\", bolum)  # Çıktı: Bölüm: 5.0 (Ondalıklı sayı)"
   ]
  },
  {
   "cell_type": "code",
   "execution_count": null,
   "metadata": {},
   "outputs": [],
   "source": [
    "a = 8\n",
    "b = 4\n",
    "sonuc = a / b\n",
    "print(sonuc)"
   ]
  },
  {
   "cell_type": "code",
   "execution_count": null,
   "metadata": {},
   "outputs": [
    {
     "data": {
      "text/plain": [
       "2.5"
      ]
     },
     "execution_count": 1,
     "metadata": {},
     "output_type": "execute_result"
    }
   ],
   "source": [
    "a = 5\n",
    "a /= 2\n",
    "a"
   ]
  },
  {
   "cell_type": "code",
   "execution_count": null,
   "metadata": {},
   "outputs": [],
   "source": [
    "# Tam Sayıya Bölme (//)\n",
    "sayi1 = 17\n",
    "sayi2 = 4\n",
    "tam_bolum = sayi1 // sayi2\n",
    "print(\"Tam bölüm:\", tam_bolum)  # Çıktı: Tam bölüm: 4 (Kalanı atar)"
   ]
  },
  {
   "cell_type": "code",
   "execution_count": null,
   "metadata": {},
   "outputs": [],
   "source": [
    "a = 10\n",
    "b = 4\n",
    "sonuc = a // b\n",
    "print(sonuc)"
   ]
  },
  {
   "cell_type": "code",
   "execution_count": null,
   "metadata": {},
   "outputs": [],
   "source": [
    "type(sonuc)"
   ]
  },
  {
   "cell_type": "code",
   "execution_count": null,
   "metadata": {},
   "outputs": [],
   "source": [
    "a = 5\n",
    "a //= 2\n",
    "a"
   ]
  },
  {
   "cell_type": "code",
   "execution_count": null,
   "metadata": {},
   "outputs": [],
   "source": [
    "# Üs Alma (**)\n",
    "taban = 2\n",
    "us = 3\n",
    "sonuc = taban ** us\n",
    "print(sonuc)  # Çıktı: 8 (2 üzeri 3)"
   ]
  },
  {
   "cell_type": "code",
   "execution_count": null,
   "metadata": {},
   "outputs": [],
   "source": [
    "a = 5 ** 2\n",
    "a"
   ]
  },
  {
   "cell_type": "code",
   "execution_count": null,
   "metadata": {},
   "outputs": [],
   "source": [
    "a = 5\n",
    "a **= 2\n",
    "a"
   ]
  },
  {
   "cell_type": "code",
   "execution_count": null,
   "metadata": {},
   "outputs": [],
   "source": [
    "# Mod Alma (%) (bolme isleminde kalan bulma)\n",
    "sayi1 = 17\n",
    "sayi2 = 4\n",
    "kalan = sayi1 % sayi2\n",
    "print(\"Kalan:\", kalan)  # Çıktı: Kalan: 1"
   ]
  },
  {
   "cell_type": "code",
   "execution_count": null,
   "metadata": {},
   "outputs": [],
   "source": [
    "a = 8\n",
    "b = 3\n",
    "sonuc = a % b\n",
    "print(sonuc)"
   ]
  },
  {
   "cell_type": "code",
   "execution_count": null,
   "metadata": {},
   "outputs": [],
   "source": [
    "a = 5\n",
    "a %= 2\n",
    "a"
   ]
  },
  {
   "cell_type": "code",
   "execution_count": null,
   "metadata": {},
   "outputs": [],
   "source": [
    "Karşılaştırma işlemleri"
   ]
  },
  {
   "cell_type": "code",
   "execution_count": null,
   "metadata": {},
   "outputs": [],
   "source": [
    "# == : Eşittir (İki değer birbirine eşitse True döner)\n",
    "# Eşitlik kontrolü\n",
    "x = 10\n",
    "y = 5\n",
    "print(x == y)  # False (Çünkü 10, 5'e eşit değil)"
   ]
  },
  {
   "cell_type": "code",
   "execution_count": null,
   "metadata": {},
   "outputs": [],
   "source": [
    "# != : Eşit Değildir (İki değer birbirine eşit değilse True döner)\n",
    "# Eşitsizlik kontrolü\n",
    "a = \"Merhaba\"\n",
    "b = \"Dünya\"\n",
    "print(a != b)  # True (Çünkü \"Merhaba\", \"Dünya\"ya eşit değil)"
   ]
  },
  {
   "cell_type": "code",
   "execution_count": null,
   "metadata": {},
   "outputs": [],
   "source": [
    "# > : Büyüktür (Sol taraf sağ taraftan büyükse True döner)\n",
    "# Büyüklük kontrolü\n",
    "c = 20\n",
    "d = 15\n",
    "print(c > d)  # True (Çünkü 20, 15'ten büyük)"
   ]
  },
  {
   "cell_type": "code",
   "execution_count": null,
   "metadata": {},
   "outputs": [],
   "source": [
    "# < : Küçüktür (Sol taraf sağ taraftan küçükse True döner)\n",
    "# Küçüklük kontrolü\n",
    "e = 3\n",
    "f = 7\n",
    "print(e < f)  # True (Çünkü 3, 7'den küçük)"
   ]
  },
  {
   "cell_type": "code",
   "execution_count": null,
   "metadata": {},
   "outputs": [],
   "source": [
    "# >= : Büyük Eşittir (Sol taraf sağ taraftan büyük veya eşitse True döner)\n",
    "# Büyük eşit kontrolü\n",
    "g = 10\n",
    "h = 10\n",
    "print(g >= h)  # True (Çünkü 10, 10'a eşit)"
   ]
  },
  {
   "cell_type": "code",
   "execution_count": null,
   "metadata": {},
   "outputs": [],
   "source": [
    "# <= : Küçük Eşittir (Sol taraf sağ taraftan küçük veya eşitse True döner)\n",
    "# Büyük eşit kontrolü\n",
    "g = 10\n",
    "h = 10\n",
    "print(g >= h)  # True (Çünkü 10, 10'a eşit)"
   ]
  },
  {
   "cell_type": "markdown",
   "metadata": {},
   "source": [
    "#**Kosullu Durumlar:**"
   ]
  },
  {
   "cell_type": "markdown",
   "metadata": {},
   "source": [
    "###if Kosulu:"
   ]
  },
  {
   "cell_type": "code",
   "execution_count": null,
   "metadata": {},
   "outputs": [],
   "source": [
    "\n",
    "a = 10\n",
    "b = 5"
   ]
  },
  {
   "cell_type": "code",
   "execution_count": null,
   "metadata": {},
   "outputs": [],
   "source": [
    "if a == b:\n",
    "  print(\"a ve b esittir\")"
   ]
  },
  {
   "cell_type": "code",
   "execution_count": null,
   "metadata": {},
   "outputs": [],
   "source": [
    "if a > b:\n",
    "  print(\"a b'den buyuktur\")"
   ]
  },
  {
   "cell_type": "markdown",
   "metadata": {},
   "source": [
    "###elif Kosulu:"
   ]
  },
  {
   "cell_type": "code",
   "execution_count": null,
   "metadata": {},
   "outputs": [],
   "source": [
    "if a == b:\n",
    "  print(\"a ve b esittir\")\n",
    "elif b < a:\n",
    "  print(\"b a'den kucuktur\")"
   ]
  },
  {
   "cell_type": "code",
   "execution_count": null,
   "metadata": {},
   "outputs": [
    {
     "name": "stdout",
     "output_type": "stream",
     "text": [
      "a b'den buyuktur\n"
     ]
    }
   ],
   "source": [
    "if a == b:\n",
    "  print(\"a ve b esittir\")\n",
    "elif a < b:\n",
    "  print(\"a b'den kucuktur\")\n",
    "elif a > b:\n",
    "  print(\"a b'den buyuktur\")"
   ]
  },
  {
   "cell_type": "markdown",
   "metadata": {},
   "source": [
    "###else Kosulu:"
   ]
  },
  {
   "cell_type": "code",
   "execution_count": null,
   "metadata": {},
   "outputs": [],
   "source": [
    "if a == b:\n",
    "  print(\"a ve b esittir\")\n",
    "else:\n",
    "  print(\"hata var\")"
   ]
  },
  {
   "cell_type": "code",
   "execution_count": null,
   "metadata": {},
   "outputs": [],
   "source": [
    "if a == b:\n",
    "  print(\"a ve b esittir\")\n",
    "elif a < b:\n",
    "  print(\"a b'den kucuktur\")\n",
    "else:\n",
    "  print(\"hata var\")\n"
   ]
  },
  {
   "cell_type": "markdown",
   "metadata": {},
   "source": [
    "###**and** ve **or** islemleri"
   ]
  },
  {
   "cell_type": "code",
   "execution_count": null,
   "metadata": {},
   "outputs": [],
   "source": [
    "a = 20\n",
    "b = 33\n",
    "c = 15\n",
    "if a < b and c > a:\n",
    "    print(\"True\")\n",
    "else:\n",
    "    print(\"False\")"
   ]
  },
  {
   "cell_type": "code",
   "execution_count": null,
   "metadata": {},
   "outputs": [],
   "source": [
    "a = 20\n",
    "b = 33\n",
    "c = 15\n",
    "if a < b or c < a:\n",
    "    print(\"True\")\n",
    "else:\n",
    "    print(\"False\")"
   ]
  },
  {
   "cell_type": "markdown",
   "metadata": {},
   "source": [
    "###Ornekler"
   ]
  },
  {
   "cell_type": "code",
   "execution_count": null,
   "metadata": {},
   "outputs": [],
   "source": [
    "# Ornek 1:\n",
    "elma = 3\n",
    "muz = 5\n",
    "\n",
    "#muz elmadan pahalimidir sorgulayiniz!\n",
    "\n",
    "if muz > elma:\n",
    "    print(\"muz elmadan daha pahalidir\")\n"
   ]
  },
  {
   "cell_type": "code",
   "execution_count": null,
   "metadata": {},
   "outputs": [],
   "source": [
    "# Ornek 2:\n",
    "elma = 3\n",
    "muz = 3\n",
    "\n",
    "#muz ve elma fiyatlari icin butun ihtimalleri sorgulayin!\n",
    "\n",
    "if muz > elma:\n",
    "    print(\"muz elmadan daha pahalidir\")\n",
    "elif muz < elma:\n",
    "    print(\"muz elmadan daha ucuzdur\")   # yada (\"elma muzdan daha pahalidir\")\n",
    "else:\n",
    "    print(\"muz ve elma fiyatlari aynidir\")"
   ]
  },
  {
   "cell_type": "code",
   "execution_count": null,
   "metadata": {},
   "outputs": [],
   "source": [
    "# Ornek 3:\n",
    "#kullanicilar rastgele sira numarasi cekiyorlar. kullanicidan cektigi sira numarasini yazmasini isteyin. eger numara 1 ise kazandiniz degilse kaybettiniz yazdirin\n",
    "\n",
    "sira = input(\"Yarismadaki siraniz : \")\n",
    "\n",
    "if sira == \"1\":\n",
    "    print(\"Tebrikler. Kazandiniz\")\n",
    "else:\n",
    "    print(\"Cok uzgunuz. Kaybettiniz\")\n",
    "\n",
    "#--------------------------------------------------#   \n",
    "\n",
    "sira = input(\"Yarismadaki siraniz : \")\n",
    "\n",
    "# Girilen değeri sayıya çevirme\n",
    "sira = int(sira)\n",
    "\n",
    "if sira == 1:\n",
    "    print(\"Tebrikler. Kazandiniz\")\n",
    "else:\n",
    "    print(\"Cok uzgunuz. Kaybettiniz\")"
   ]
  },
  {
   "cell_type": "code",
   "execution_count": null,
   "metadata": {},
   "outputs": [],
   "source": [
    "# Ornek 4:\n",
    "#kullanicidan ik sayi girmesini isteyin. Alinan 2 sayinin birbirine tam bolunup bolunmedigini kontrol eden nir kod yazin.\n",
    "\n",
    "sayi_1 = int(input(\"Ilk sayiyi giriniz : \"))\n",
    "sayi_2 = int(input(\"Ikinci sayiyi giriniz : \"))\n",
    "\n",
    "\n",
    "if sayi_1 % sayi_2 == 0:\n",
    "    print(\"Girilen sayilar birbirine tam bolunebilen sayilardir.\")\n",
    "else:\n",
    "    print(\"Girilen sayilar tam bolunebilir sayilar DEGILDIR.\")"
   ]
  },
  {
   "cell_type": "code",
   "execution_count": null,
   "metadata": {},
   "outputs": [],
   "source": [
    "# Ornek 5:\n",
    "#Alinan bir sayinin pozitif mi negatif mi sifir mi oldugunu gosteriniz.\n",
    "\n",
    "sayi = int(input(\"Sayi giriniz: \"))\n",
    "if sayi > 0:\n",
    "    print(\"Pozitif sayi\")\n",
    "elif sayi == 0:\n",
    "    print(\"Sifir\")\n",
    "else:\n",
    "    print(\"Negatif sayi\")"
   ]
  },
  {
   "cell_type": "code",
   "execution_count": null,
   "metadata": {},
   "outputs": [],
   "source": [
    "# Ornek 6:\n",
    "#Uc sayi alin ve bu sayilarin medyanini bulunuz.\n",
    "#not:3 sayının medyanı, o sayıları küçükten büyüğe sıraladığımızda tam ortada kalan sayıdır.\n",
    "\n",
    "sayi_1 = input(\"Ilk sayiyi giriniz : \")\n",
    "sayi_2 = input(\"Ikinci sayiyi giriniz : \")\n",
    "sayi_3 = input(\"Ucuncu sayiyi giriniz : \")\n",
    "print(\"Bu 3 sayinin medyani -\")\n",
    "\n",
    "if (sayi_1 < sayi_2 < sayi_3) or (sayi_1 > sayi_2 > sayi_3):\n",
    "    print(sayi_2)\n",
    "    \n",
    "elif (sayi_2 < sayi_1 < sayi_3) or (sayi_2 > sayi_1 > sayi_3):\n",
    "    print(sayi_1)\n",
    "    \n",
    "elif (sayi_1 < sayi_3 < sayi_2) or (sayi_1 > sayi_3 > sayi_2):\n",
    "    print(sayi_3)  "
   ]
  },
  {
   "cell_type": "code",
   "execution_count": null,
   "metadata": {},
   "outputs": [],
   "source": [
    "# ornek 6 nin kisa yol ile cozumu\n",
    "# bunu listeler kisiminda ogreneceksiniz\n",
    "sayilar = [sayi_1, sayi_2, sayi_3]\n",
    "sayilar.sort()"
   ]
  },
  {
   "cell_type": "markdown",
   "metadata": {},
   "source": [
    "#**Donguler:**"
   ]
  },
  {
   "cell_type": "markdown",
   "metadata": {},
   "source": [
    "##While:"
   ]
  },
  {
   "cell_type": "code",
   "execution_count": null,
   "metadata": {},
   "outputs": [],
   "source": [
    "i = 1\n",
    "while i < 6:\n",
    "    print(i)\n",
    "    i += 2"
   ]
  },
  {
   "cell_type": "code",
   "execution_count": null,
   "metadata": {},
   "outputs": [],
   "source": [
    "i = 1\n",
    "while i < 6:\n",
    "    print(i)\n",
    "    if i == 3:\n",
    "        break\n",
    "    i += 1 "
   ]
  },
  {
   "cell_type": "code",
   "execution_count": null,
   "metadata": {},
   "outputs": [],
   "source": [
    "i = 0\n",
    "while i < 6:\n",
    "    i += 1\n",
    "    if i == 3:\n",
    "        continue\n",
    "    print(i)"
   ]
  },
  {
   "cell_type": "markdown",
   "metadata": {},
   "source": [
    "###whlie else"
   ]
  },
  {
   "cell_type": "code",
   "execution_count": null,
   "metadata": {},
   "outputs": [],
   "source": [
    "i = 1\n",
    "while i < 2:\n",
    "    print(i)\n",
    "    i += 2\n",
    "else:\n",
    "  print(\"while bitti\")"
   ]
  },
  {
   "cell_type": "markdown",
   "metadata": {},
   "source": [
    "##For:"
   ]
  },
  {
   "cell_type": "code",
   "execution_count": null,
   "metadata": {},
   "outputs": [],
   "source": [
    "fruits = [\"apple\", \"banana\", \"cherry\"]\n",
    "for x in fruits:\n",
    "    print(x)"
   ]
  },
  {
   "cell_type": "code",
   "execution_count": null,
   "metadata": {},
   "outputs": [],
   "source": [
    "for x in \"banana\":\n",
    "    print(x)"
   ]
  },
  {
   "cell_type": "code",
   "execution_count": null,
   "metadata": {},
   "outputs": [],
   "source": [
    "fruits = [\"apple\", \"banana\", \"cherry\"]\n",
    "for x in fruits:\n",
    "    print(x)\n",
    "    if x == \"banana\":\n",
    "        break"
   ]
  },
  {
   "cell_type": "code",
   "execution_count": null,
   "metadata": {},
   "outputs": [],
   "source": [
    "fruits = [\"apple\", \"banana\", \"cherry\"]\n",
    "for x in fruits:\n",
    "    if x == \"banana\":\n",
    "        break\n",
    "    print(x)"
   ]
  },
  {
   "cell_type": "code",
   "execution_count": null,
   "metadata": {},
   "outputs": [],
   "source": [
    "fruits = [\"apple\", \"banana\", \"cherry\"]\n",
    "for x in fruits:\n",
    "    if x == \"banana\":\n",
    "        continue\n",
    "    print(x)"
   ]
  },
  {
   "cell_type": "code",
   "execution_count": null,
   "metadata": {},
   "outputs": [],
   "source": [
    "adj = [\"red\", \"big\", \"tasty\"]\n",
    "fruits = [\"apple\", \"banana\", \"cherry\"]\n",
    "\n",
    "for x in adj:\n",
    "    for y in fruits:\n",
    "        print(x, y) "
   ]
  },
  {
   "cell_type": "markdown",
   "metadata": {},
   "source": [
    "###range() Fonksiyonu:"
   ]
  },
  {
   "cell_type": "code",
   "execution_count": null,
   "metadata": {},
   "outputs": [],
   "source": [
    "for x in range(6):\n",
    "    print(x)"
   ]
  },
  {
   "cell_type": "code",
   "execution_count": null,
   "metadata": {},
   "outputs": [],
   "source": [
    "for x in range(2, 6):\n",
    "    print(x)"
   ]
  },
  {
   "cell_type": "code",
   "execution_count": null,
   "metadata": {},
   "outputs": [],
   "source": [
    "for i in range(1, 20, 2):\n",
    "    print(i)"
   ]
  },
  {
   "cell_type": "code",
   "execution_count": null,
   "metadata": {},
   "outputs": [],
   "source": [
    "for i in range(20, 1, -2):\n",
    "    print(i)"
   ]
  },
  {
   "cell_type": "markdown",
   "metadata": {},
   "source": [
    "###for else"
   ]
  },
  {
   "cell_type": "code",
   "execution_count": null,
   "metadata": {},
   "outputs": [],
   "source": [
    "for x in range(2, 6):\n",
    "    print(x)\n",
    "else:\n",
    "  print(\"for loop bitti\")"
   ]
  },
  {
   "cell_type": "markdown",
   "metadata": {},
   "source": [
    "###pass:"
   ]
  },
  {
   "cell_type": "markdown",
   "metadata": {},
   "source": [
    "pass Anahtar Kelimesi\n",
    "Ne yapar: Hiçbir şey yapmaz. Sentaktik olarak bir kod bloğu başlatılması gerektiği ancak o blokta henüz herhangi bir işlem yapılmayacaksa kullanışlıdır.\n",
    "Neden kullanılır:\n",
    "Yer tutucu: Bir fonksiyon veya döngü içerisinde henüz tamamlanmamış bir kod bloğu için geçici olarak yer tutar. Bu, kodun daha sonra tamamlanmasına imkan tanır.\n",
    "Boş geçme: Belirli bir koşulda hiçbir işlem yapılmadan döngünün devam etmesini sağlar."
   ]
  },
  {
   "cell_type": "code",
   "execution_count": null,
   "metadata": {},
   "outputs": [],
   "source": [
    "for i in range(10):\n",
    "    if i % 2 == 0:\n",
    "        # Çift sayılarda herhangi bir işlem yapma\n",
    "        pass\n",
    "    else:\n",
    "        print(i)"
   ]
  },
  {
   "cell_type": "code",
   "execution_count": null,
   "metadata": {},
   "outputs": [],
   "source": [
    "if a == b:\n",
    "  pass"
   ]
  },
  {
   "cell_type": "markdown",
   "metadata": {},
   "source": [
    "###break:"
   ]
  },
  {
   "cell_type": "markdown",
   "metadata": {},
   "source": [
    "break Anahtar Kelimesi\n",
    "Ne yapar: Döngüyü tamamen sonlandırır.\n",
    "Neden kullanılır:\n",
    "Aranan bir değer bulunduğunda veya belirli bir koşul sağlandığında döngünün durdurulması istendiğinde kullanılır."
   ]
  },
  {
   "cell_type": "code",
   "execution_count": null,
   "metadata": {},
   "outputs": [],
   "source": [
    "kullanici_adim=\"Python\"\n",
    "\n",
    "parolam =\"1234\"\n",
    "\n",
    "giris_hakki=3\n",
    "\n",
    "while giris_hakki>0:\n",
    "    giris_hakki -=1\n",
    "\n",
    "    kullanici_adi = input(\"Kullanıcı Adınızı Girin :\")\n",
    "\n",
    "    parola = input(\"Parolayı Giriniz :\")\n",
    "\n",
    "    if kullanici_adi==kullanici_adim and parola== parolam:\n",
    "\n",
    "        print(\"Sisteme başarılı bir şekilde giriş yaptınız.\")\n",
    "\n",
    "    else:\n",
    "\n",
    "        print(\"Kullanıcı bilgileri yanlış tekrar deneyin!\")"
   ]
  },
  {
   "cell_type": "code",
   "execution_count": null,
   "metadata": {},
   "outputs": [],
   "source": [
    "kullanici_adim=\"Python\"\n",
    "\n",
    "parolam =\"1234\"\n",
    "\n",
    "giris_hakki=3\n",
    "\n",
    "while giris_hakki>0:\n",
    "    giris_hakki -=1\n",
    "    kullanici_adi = input(\"Kullanıcı Adınızı Girin :\")\n",
    "\n",
    "    parola = input(\"Parolayı Giriniz :\")\n",
    "\n",
    "    if kullanici_adi==kullanici_adim and parola== parolam:\n",
    "\n",
    "        print(\"Sisteme başarılı bir şekilde giriş yaptınız.\")\n",
    "\n",
    "        break\n",
    "\n",
    "    else:\n",
    "\n",
    "        print(\"Kullanıcı bilgileri yanlış tekrar deneyin!\")"
   ]
  },
  {
   "cell_type": "markdown",
   "metadata": {},
   "source": [
    "continue"
   ]
  },
  {
   "cell_type": "markdown",
   "metadata": {},
   "source": [
    "continue Anahtar Kelimesi\n",
    "Ne yapar: Döngünün şu anki iterasyonunu durdurur ve bir sonraki iterasyona geçer.\n",
    "Neden kullanılır:\n",
    "Atlama: Belirli bir koşul sağlandığında döngünün geri kalanı atlanır ve bir sonraki iterasyona geçilir.\n",
    "Kısa devre: Döngü içerisinde gereksiz işlemlerin yapılmasını önler."
   ]
  },
  {
   "cell_type": "code",
   "execution_count": null,
   "metadata": {},
   "outputs": [],
   "source": [
    "for sayi in range(20):\n",
    "\n",
    "    if sayi%2==0:\n",
    "\n",
    "        continue\n",
    "        \n",
    "    else:\n",
    "\n",
    "        print(sayi)"
   ]
  },
  {
   "cell_type": "markdown",
   "metadata": {},
   "source": [
    "###Ornekler:"
   ]
  },
  {
   "cell_type": "code",
   "execution_count": null,
   "metadata": {},
   "outputs": [],
   "source": [
    "# Ornek 1:\n",
    "#Kullanicidan bir sayi alin ve Aldiginiz sayinin listedeki sayidan buyuk, kucuk veya esit oldugunu gosteriniz.\n",
    "listem = [19,34,62,93]\n",
    "\n",
    "sayi =  int(input(\"Bir sayi giriniz.\"))\n",
    "\n",
    "for i in listem:\n",
    "    if i < sayi:\n",
    "        print(\"Buyuk\")\n",
    "    elif i > sayi:\n",
    "        print(\"Kucuk\")\n",
    "    else:\n",
    "        print(\"Esit\")"
   ]
  },
  {
   "cell_type": "code",
   "execution_count": null,
   "metadata": {},
   "outputs": [],
   "source": [
    "# Ornek 2:\n",
    "#Bir rakamin carpim tablosunu gosteriniz.\n",
    "\n",
    "rakam = int(input(\"Rakam giriniz : \"))\n",
    "\n",
    "for i in range(1,11):\n",
    "    print(rakam,' x ',i,' = ', rakam * i)   "
   ]
  },
  {
   "cell_type": "code",
   "execution_count": null,
   "metadata": {},
   "outputs": [],
   "source": [
    "# Ornek 3:\n",
    "#Girilen metnin harflerini alt alta yazdıriniz.\n",
    "\n",
    "#while ile\n",
    "metin = input(\"Metni Girin : \")\n",
    "sayac=0\n",
    "while sayac < len(metin):\n",
    "    print(metin[sayac])\n",
    "    sayac += 1\n",
    "\n",
    "print(\"Metnin harflerini yukariya listeledim. Umarim begenmisssindir.\")\n",
    "\n",
    "# bu soruyu break kullanarak daha sonra cozmeye calisin!\n",
    "\n",
    "\n",
    "#for ile\n",
    "for i in metin:\n",
    "    print(i)"
   ]
  },
  {
   "cell_type": "code",
   "execution_count": null,
   "metadata": {},
   "outputs": [],
   "source": [
    "# Ornek 4:\n",
    "# 1 - 10 arasi bir sayı girin ve kullanicinin bu sayiy tahmin etmesini isteyin. kullaniciyi tahminine gore yonlendirerek sayiyi bulmasina yardimci olun.\n",
    "\n",
    "aranan_sayi = 4\n",
    "tahmin_sayisi = 0\n",
    " \n",
    "while True:\n",
    "    tahmin_sayisi += 1\n",
    "    sayi=int(input(\"1 ile 10 arasında değer girin (0 Çıkış):\"))\n",
    "    if(sayi==0):\n",
    "        print(\"Oyunu İptal Ettiniz\")\n",
    "        break\n",
    "    elif sayi < aranan_sayi:\n",
    "        print(\"Daha Yüksek Bir Sayı Girin.\")\n",
    "        \n",
    "    elif sayi > aranan_sayi:\n",
    "        print(\"Daha Düşük Bir Sayı Girin.\")\n",
    "        \n",
    "    else:\n",
    "        print(\"Tebrikler! {}. Tahmininizde Bildiniz! Tutulan sayi {}!\".format(tahmin_sayisi, aranan_sayi))\n",
    "        break "
   ]
  },
  {
   "cell_type": "code",
   "execution_count": null,
   "metadata": {},
   "outputs": [],
   "source": [
    "# Ornek 5:\n",
    "#1 ile 100 sayilari arasinda hem 3'e hem de 4'a tam bolunebilen sayilari gosteriniz.\n",
    "\n",
    "for i in range(1, 100):\n",
    "    if (i%3==0) and (i%4==0):\n",
    "        print(i)"
   ]
  },
  {
   "cell_type": "code",
   "execution_count": null,
   "metadata": {},
   "outputs": [],
   "source": [
    "# Ornek 6:\n",
    "#Kullanicidan bir sayi alin ve bu sayinin tum bolenlerini gosteriniz.\n",
    "\n",
    "sayi = int(input(\"Sayiniz : \"))\n",
    "\n",
    "for i in range(1, sayi + 1):\n",
    "    if sayi % i == 0 :\n",
    "        print(i)"
   ]
  },
  {
   "cell_type": "code",
   "execution_count": null,
   "metadata": {},
   "outputs": [
    {
     "name": "stdout",
     "output_type": "stream",
     "text": [
      "Tek Sayıların Toplamı : 15\n",
      "Çift Sayıların Toplamı : 20\n"
     ]
    }
   ],
   "source": [
    "# Bonus\n",
    "#Kullanıcının girmiş olduğu iki sayı arasindaki (bu sayilar dahil) tek ve çift sayıların toplamını ayrı ayrı bulup sonucu gösteriniz.\n",
    "\n",
    "sayi_min = int(input('Kucuk Sayıyı Girin : '))\n",
    "sayi_max = int(input('Buyuk Sayıyı Girin : '))\n",
    "tek_toplam=0\n",
    "cift_toplam=0\n",
    "for i in range(sayi_min,sayi_max + 1):\n",
    "    if(i%2==0):\n",
    "        cift_toplam += i\n",
    "    else:\n",
    "        tek_toplam += i\n",
    "\n",
    "print(\"Tek Sayıların Toplamı : {0}\".format(tek_toplam))\n",
    "print(\"Çift Sayıların Toplamı : {0}\".format(cift_toplam))\n"
   ]
  },
  {
   "cell_type": "markdown",
   "metadata": {},
   "source": [
    "\\n: Yeni satıra geçer.\n",
    "end=\" \": Aynı satırda devam eder.\n",
    "\\t, \\r, \\', \\\", \\\\: Özel karakterler.\n",
    "f-string ve format(): Metin biçimlendirme.\n",
    "Bu yöntemleri kullanarak Python'da istediğiniz gibi çıktı formatları oluşturabilirsiniz.\n",
    "\n",
    "Ek Bilgiler:\n",
    "\n",
    "sep parametresi: print() fonksiyonunun bir diğer parametresi olan sep ise, birden fazla argüman yazdırırken aralarına eklenmesi gereken karakteri belirtir. Örneğin: print(1, 2, 3, sep=\", \") çıktısı 1, 2, 3 olacaktır.\n",
    "file parametresi: print() fonksiyonu, çıktıyı ekrana değil, belirtilen bir dosyaya yazmak için de kullanılabilir."
   ]
  },
  {
   "cell_type": "markdown",
   "metadata": {},
   "source": [
    "**1. Yeni Satıra Geçme:**   \\n\n",
    "Ne yapar: \\n karakteri, yazdırılan metnin ardından imleci bir satır aşağıya alır. Yani yeni bir satıra geçilmesini sağlar."
   ]
  },
  {
   "cell_type": "code",
   "execution_count": null,
   "metadata": {},
   "outputs": [],
   "source": [
    "print(\"Merhaba\\nDünya\\nPython\")"
   ]
  },
  {
   "cell_type": "markdown",
   "metadata": {},
   "source": [
    "**2. Aynı Satırda Devam Etme:**    end=\" \"\n",
    "Ne yapar: end parametresi, print() fonksiyonunun sonunda eklenmesi gereken karakteri belirtir. Varsayılan değeri \\n'dir, yani yeni satıra geçilir. Ancak biz bunu başka bir karakterle veya boş bir dizeyle değiştirerek aynı satırda devam etmesini sağlayabiliriz."
   ]
  },
  {
   "cell_type": "code",
   "execution_count": null,
   "metadata": {},
   "outputs": [
    {
     "name": "stdout",
     "output_type": "stream",
     "text": [
      "Elma Armut Muz\n"
     ]
    }
   ],
   "source": [
    "print(\"Elma\", end=\" \")\n",
    "print(\"Armut\", end=\" \")\n",
    "print(\"Muz\")"
   ]
  },
  {
   "cell_type": "code",
   "execution_count": null,
   "metadata": {},
   "outputs": [
    {
     "name": "stdout",
     "output_type": "stream",
     "text": [
      "0-1-2-3-4-"
     ]
    }
   ],
   "source": [
    "for i in range(5):\n",
    "    print(i, end=\"-\")\n",
    "\n",
    "not: burda sonda olan cizgiyi gormek istemiyorsak, bunu nasil yapabiliriz."
   ]
  },
  {
   "cell_type": "markdown",
   "metadata": {},
   "source": [
    "**3. sep Parametresi Kullanarak**"
   ]
  },
  {
   "cell_type": "code",
   "execution_count": null,
   "metadata": {},
   "outputs": [],
   "source": [
    "print(\"Merhaba\", \"Dünya\", sep=\", \")"
   ]
  },
  {
   "cell_type": "code",
   "execution_count": null,
   "metadata": {},
   "outputs": [],
   "source": [
    "for i in range(10):\n",
    "    print(i, sep=\", \")"
   ]
  },
  {
   "cell_type": "markdown",
   "metadata": {},
   "source": [
    "**4. Özel Karakterler:**     \\t, \\r, vb."
   ]
  },
  {
   "cell_type": "code",
   "execution_count": null,
   "metadata": {},
   "outputs": [],
   "source": [
    "# \\t: Tab karakteri, belirli sayıda boşluk bırakır.\n",
    "\n",
    "print(\"Adı:\\tSoyadı:\\tYaşı:\")\n",
    "print(\"Ali\\tYılmaz\\t30\")"
   ]
  },
  {
   "cell_type": "code",
   "execution_count": null,
   "metadata": {},
   "outputs": [],
   "source": [
    "#  \\r: Satır başından itibaren imleci belirtilen konuma taşır (carriage return).\n",
    " \n",
    "print(\"Merhaba\\rDünya\")"
   ]
  },
  {
   "cell_type": "code",
   "execution_count": null,
   "metadata": {},
   "outputs": [
    {
     "name": "stdout",
     "output_type": "stream",
     "text": [
      "Benim adım \"Ali\".\n",
      "O şöyle dedi: 'Merhaba'\n"
     ]
    }
   ],
   "source": [
    "#  ' ve \" (Tek ve Çift Tırnak):\n",
    "\n",
    "print('Benim adım \"Ali\".')\n",
    "print(\"O şöyle dedi: 'Merhaba'\")"
   ]
  },
  {
   "cell_type": "code",
   "execution_count": null,
   "metadata": {},
   "outputs": [
    {
     "name": "stdout",
     "output_type": "stream",
     "text": [
      "\" bu isaretin adi nedir?\n"
     ]
    }
   ],
   "source": [
    "#  \\ : Ters eğik çizgi karakterini metin içinde kullanmak için kullanılır.\n",
    "\n",
    "print(\"Ters eğik çizgi: \\\\\")\n",
    "print(\"Tirnak isareti: \\\"\")"
   ]
  },
  {
   "cell_type": "markdown",
   "metadata": {},
   "source": [
    "**6. Format Metodu:**"
   ]
  },
  {
   "cell_type": "code",
   "execution_count": null,
   "metadata": {},
   "outputs": [
    {
     "name": "stdout",
     "output_type": "stream",
     "text": [
      "Python ve Django iyi bir ikilidir\n"
     ]
    }
   ],
   "source": [
    "print(\"{} ve {} iyi bir ikilidir\".format(\"Python\",\"Django\"))"
   ]
  },
  {
   "cell_type": "code",
   "execution_count": null,
   "metadata": {},
   "outputs": [
    {
     "name": "stdout",
     "output_type": "stream",
     "text": [
      "Python ve Django iyi bir ikilidir\n"
     ]
    }
   ],
   "source": [
    "a = \"Python\"\n",
    "b = \"Django\"\n",
    "print(f\"{a} ve {b} iyi bir ikilidir\")"
   ]
  },
  {
   "cell_type": "code",
   "execution_count": null,
   "metadata": {},
   "outputs": [],
   "source": [
    "metin = \"{} ve {} iyi bir ikilidir\"\n",
    "metin.format(\"Python\",\"Django\")"
   ]
  },
  {
   "cell_type": "code",
   "execution_count": null,
   "metadata": {},
   "outputs": [],
   "source": [
    "\"{1} {0} {2}\".format(43,\"Murat\",54)"
   ]
  },
  {
   "cell_type": "markdown",
   "metadata": {},
   "source": [
    "###Ornekler"
   ]
  },
  {
   "cell_type": "code",
   "execution_count": null,
   "metadata": {},
   "outputs": [],
   "source": [
    "# Ornek 1:\n",
    "not1 = 55; not2 = 100\n",
    "\n",
    "#yukarda verilen notlarin ortalamasini hesaplayin ve sonucunu format metodu ile bir cumle olarak yazdirin. yazdirdiginiz sonucta not1, not2 ve ortalama bulunsun.(Not1:55 Not2:100  Ortalama:77.5)"
   ]
  },
  {
   "cell_type": "code",
   "execution_count": null,
   "metadata": {},
   "outputs": [],
   "source": [
    "# Ornek 2:\n",
    "# kullanicidan adini soyadini ve yasini aliniz ve bunlari format yontemi ile \n",
    "# bir cumlede yazdiriniz.\n",
    "# \"Adiniz:Mehmet, Soyadiniz:Oz, Yasiniz:25\"\n",
    "\n",
    "ad = input(\"Adinizi giriniz.\")\n",
    "soyad = input(\"Yasinizi giriniz.\")\n",
    "yas = input(\"Yasinizi giriniz.\")\n",
    "\n",
    "print('Adiniz:{}, Soyadiniz:{}, Yasiniz:{}'.format(ad,soyad,yas))"
   ]
  },
  {
   "cell_type": "code",
   "execution_count": null,
   "metadata": {},
   "outputs": [],
   "source": [
    "# Ornek 3:\n",
    "# uc farkli kisiden isimlerini ve notlarini alin ve format metodunu kullanarak alt alta yazdirin (while kullanarak)\n",
    "'''\n",
    "Adiniz:Ali, Notunuz:30\n",
    "Adiniz:Mehmet, Notunuz:20\n",
    "Adiniz:Ahmet, Notunuz:40\n",
    "'''\n",
    "kisi = 0\n",
    "while kisi < 3:\n",
    "  \n",
    "  adi = input(\"Adinizi giriniz.\")\n",
    "  notu = input(\"Notunuzu giriniz.\")\n",
    "  kisi +=1  \n",
    "\n",
    "  print('Adiniz:{}, Notunuz:{}'.format(adi,notu))"
   ]
  },
  {
   "cell_type": "code",
   "execution_count": null,
   "metadata": {},
   "outputs": [],
   "source": []
  },
  {
   "cell_type": "code",
   "execution_count": null,
   "metadata": {},
   "outputs": [],
   "source": []
  },
  {
   "cell_type": "code",
   "execution_count": null,
   "metadata": {},
   "outputs": [],
   "source": []
  }
 ],
 "metadata": {
  "kernelspec": {
   "display_name": "Python 3",
   "language": "python",
   "name": "python3"
  },
  "language_info": {
   "codemirror_mode": {
    "name": "ipython",
    "version": 3
   },
   "file_extension": ".py",
   "mimetype": "text/x-python",
   "name": "python",
   "nbconvert_exporter": "python",
   "pygments_lexer": "ipython3",
   "version": "3.12.0"
  }
 },
 "nbformat": 4,
 "nbformat_minor": 2
}
